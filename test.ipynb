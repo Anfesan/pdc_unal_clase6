{
 "cells": [
  {
   "cell_type": "code",
   "execution_count": 2,
   "metadata": {},
   "outputs": [],
   "source": [
    "def newton(num, root):\n",
    "  for iter in range(50):\n",
    "      if iter == 0:\n",
    "        x = 1 \n",
    "      f = x**root - num\n",
    "      g = root*(x**(root-1))\n",
    "      x = x - (f/g)\n",
    "  return x\n"
   ]
  },
  {
   "cell_type": "code",
   "execution_count": 3,
   "metadata": {},
   "outputs": [
    {
     "name": "stdout",
     "output_type": "stream",
     "text": [
      "729.1159029948531 729.1159029948531\n"
     ]
    }
   ],
   "source": [
    "print(newton(531610, 2),531610**0.5)"
   ]
  },
  {
   "cell_type": "markdown",
   "metadata": {},
   "source": [
    "https://plainenglish.io/blog/6-amazing-algorithms-to-get-the-square-root-and-any-root-of-any-number-in-python-3c976ad1ca04#2-approximation-with-binary-search-any-root\n",
    "https://en.wikipedia.org/wiki/Methods_of_computing_square_roots"
   ]
  },
  {
   "cell_type": "code",
   "execution_count": 2,
   "metadata": {},
   "outputs": [
    {
     "name": "stdout",
     "output_type": "stream",
     "text": [
      "10\n"
     ]
    }
   ],
   "source": [
    "n : int = 10\n",
    "if n >= 2 and n <= 5:\n",
    "  print(\"El numero \" + str(n)+ \" esta entre 2 y 5\")\n",
    "print(n)"
   ]
  },
  {
   "cell_type": "code",
   "execution_count": 4,
   "metadata": {},
   "outputs": [
    {
     "name": "stdout",
     "output_type": "stream",
     "text": [
      "80\n"
     ]
    }
   ],
   "source": [
    "n : int \n",
    "n = int(input(\"Ingrese un numero entero: \"))\n",
    "if n >= 2 and n <= 5:\n",
    "  print(\"El numero \" + str(n)+ \" esta entre 2 y 5\")\n",
    "print(n)"
   ]
  },
  {
   "cell_type": "code",
   "execution_count": 7,
   "metadata": {},
   "outputs": [
    {
     "name": "stdout",
     "output_type": "stream",
     "text": [
      "El numero 4 esta entre 2 y 5\n",
      "4\n"
     ]
    }
   ],
   "source": [
    "n : int \n",
    "n = int(input(\"Ingrese un numero entero: \")) # Conversion a entero\n",
    "if n >= 2 and n <= 5:\n",
    "  print(\"El numero \" + str(n)+ \" esta entre 2 y 5\")\n",
    "else:\n",
    "  if n < 2:\n",
    "    print(\"El numero \" + str(n)+ \" es menor que 2\")\n",
    "  if n > 5:\n",
    "    print(\"El numero \" + str(n)+ \" es mayor que 5\")\n",
    "print(n)"
   ]
  },
  {
   "cell_type": "code",
   "execution_count": 9,
   "metadata": {},
   "outputs": [
    {
     "name": "stdout",
     "output_type": "stream",
     "text": [
      "5.0 5.0\n"
     ]
    }
   ],
   "source": [
    "a = float(input(\"Ingrese el primer numero: \")) \n",
    "b = float(input(\"Ingrese el segundo numero: \")) \n",
    "if a == b:\n",
    "  print(a,b)\n",
    "else:\n",
    "  if a > b:\n",
    "    print(a)\n",
    "  if b > a:\n",
    "    print(b)"
   ]
  },
  {
   "cell_type": "code",
   "execution_count": 10,
   "metadata": {},
   "outputs": [
    {
     "name": "stdout",
     "output_type": "stream",
     "text": [
      "El numero 5.0 es positivo\n"
     ]
    }
   ],
   "source": [
    "a : float\n",
    "a = float(input(\"Ingrese el primer numero: \")) \n",
    "if a >= 0:\n",
    "  print(\"El numero \"+str(a)+\" es positivo\")\n",
    "else:\n",
    "  print(\"El numero \"+str(a)+\" es negativo\")"
   ]
  },
  {
   "cell_type": "code",
   "execution_count": 11,
   "metadata": {},
   "outputs": [
    {
     "name": "stdout",
     "output_type": "stream",
     "text": [
      "El valor absoluto es 10.0\n"
     ]
    }
   ],
   "source": [
    "a : float\n",
    "a = float(input(\"Ingrese el primer numero: \")) \n",
    "if a >= 0:\n",
    "  print(\"El valor absoluto es \"+str(a))\n",
    "else:\n",
    "  print(\"El valor absoluto es \"+str(-a))"
   ]
  },
  {
   "cell_type": "code",
   "execution_count": 13,
   "metadata": {},
   "outputs": [
    {
     "name": "stdout",
     "output_type": "stream",
     "text": [
      "El valor absoluto es 10.0\n"
     ]
    }
   ],
   "source": [
    "a : float\n",
    "valor_abs : float\n",
    "a = float(input(\"Ingrese un numero: \")) \n",
    "valor_abs = a if a >= 0 else -a\n",
    "print(\"El valor absoluto es \"+str(valor_abs))"
   ]
  },
  {
   "cell_type": "code",
   "execution_count": null,
   "metadata": {},
   "outputs": [],
   "source": [
    "cantidadestudiantes = 1\n",
    "def cantidad():\n",
    "  return None"
   ]
  },
  {
   "cell_type": "code",
   "execution_count": 14,
   "metadata": {},
   "outputs": [],
   "source": [
    "# Declarar variable\n",
    "x : int\n",
    "# Inicializar variable\n",
    "x = 10 \n",
    "# Declarar e inicializar variable\n",
    "x : int = 10"
   ]
  },
  {
   "cell_type": "code",
   "execution_count": 15,
   "metadata": {},
   "outputs": [
    {
     "name": "stdout",
     "output_type": "stream",
     "text": [
      "10\n"
     ]
    }
   ],
   "source": [
    "print(x)"
   ]
  },
  {
   "cell_type": "markdown",
   "metadata": {},
   "source": [
    "# Soy markdown"
   ]
  },
  {
   "cell_type": "code",
   "execution_count": 22,
   "metadata": {},
   "outputs": [
    {
     "name": "stdout",
     "output_type": "stream",
     "text": [
      "65\n",
      "0b10000000000000000000000000000000000000000000000001011110100000000\n"
     ]
    }
   ],
   "source": [
    "# Declarar e inicializar variable\n",
    "x : int = 18446744073709600000\n",
    "# Cantidad de bits\n",
    "print(x.bit_length())\n",
    "# Representacion binaria \n",
    "print(bin(x)) "
   ]
  },
  {
   "cell_type": "code",
   "execution_count": 23,
   "metadata": {},
   "outputs": [
    {
     "name": "stdout",
     "output_type": "stream",
     "text": [
      "6.02214129e+23\n"
     ]
    }
   ],
   "source": [
    "Avogadro : float = +6.02214129e+23\n",
    "print(Avogadro)"
   ]
  },
  {
   "cell_type": "code",
   "execution_count": 25,
   "metadata": {},
   "outputs": [
    {
     "name": "stdout",
     "output_type": "stream",
     "text": [
      "True\n"
     ]
    }
   ],
   "source": [
    "print(0==False)"
   ]
  },
  {
   "cell_type": "code",
   "execution_count": 36,
   "metadata": {},
   "outputs": [
    {
     "data": {
      "text/plain": [
       "49"
      ]
     },
     "execution_count": 36,
     "metadata": {},
     "output_type": "execute_result"
    }
   ],
   "source": [
    "ord(\"1\")"
   ]
  },
  {
   "cell_type": "code",
   "execution_count": 34,
   "metadata": {},
   "outputs": [
    {
     "data": {
      "text/plain": [
       "' '"
      ]
     },
     "execution_count": 34,
     "metadata": {},
     "output_type": "execute_result"
    }
   ],
   "source": [
    "chr(32)"
   ]
  },
  {
   "cell_type": "code",
   "execution_count": 39,
   "metadata": {},
   "outputs": [
    {
     "name": "stdout",
     "output_type": "stream",
     "text": [
      "Cadena con una comilla simple', una comilla doble  y una diagonal invertida \n"
     ]
    }
   ],
   "source": [
    "cadena = \"Cadena con una comilla simple', una comilla doble  y una diagonal invertida \"\n",
    "print(cadena) "
   ]
  },
  {
   "cell_type": "code",
   "execution_count": 40,
   "metadata": {},
   "outputs": [
    {
     "name": "stdout",
     "output_type": "stream",
     "text": [
      " soy una comilla sencila ' \n"
     ]
    }
   ],
   "source": [
    "cadena = \" soy una comilla sencila ' \"\n",
    "print(cadena)"
   ]
  },
  {
   "cell_type": "code",
   "execution_count": 41,
   "metadata": {},
   "outputs": [
    {
     "name": "stdout",
     "output_type": "stream",
     "text": [
      " soy una comilla doble \" \n"
     ]
    }
   ],
   "source": [
    "cadena = ' soy una comilla doble \" '\n",
    "print(cadena)"
   ]
  },
  {
   "cell_type": "code",
   "execution_count": null,
   "metadata": {},
   "outputs": [],
   "source": [
    "cadena = ' soy una comilla doble \" '"
   ]
  },
  {
   "cell_type": "code",
   "execution_count": 1,
   "metadata": {},
   "outputs": [
    {
     "name": "stdout",
     "output_type": "stream",
     "text": [
      "Serás un cientifico de datos\n"
     ]
    }
   ],
   "source": [
    "lang = input(\"Que lenguaje de programacion desea aprender? \")\n",
    "\n",
    "match lang:\n",
    "  case \"JavaScript\":\n",
    "    print(\"Serás un desarrollador web full stack.\")\n",
    "\n",
    "  case \"Python\":\n",
    "    print(\"Serás un cientifico de datos\")\n",
    "\n",
    "  case \"PHP\":\n",
    "    print(\"Serás un desarrollador backend\")\n",
    "  \n",
    "  case \"Matlab\":\n",
    "    print(\"Serás la burla del resto de programadores\")\n",
    "\n",
    "  case \"Java\":\n",
    "    print(\"Serás un desarrollador de apps moviles\")\n",
    "  case _:\n",
    "    print(\"Lo importante no es el lenguaje, es la habilidad de resolver problemas.\")"
   ]
  },
  {
   "cell_type": "code",
   "execution_count": 2,
   "metadata": {},
   "outputs": [
    {
     "name": "stdout",
     "output_type": "stream",
     "text": [
      "Serás un cientifico de datos\n"
     ]
    }
   ],
   "source": [
    "lang = input(\"Que lenguaje de programacion desea aprender? \")\n",
    "\n",
    "if lang == \"JavaScript\":\n",
    "  print(\"Serás un desarrollador web full stack.\")\n",
    "elif lang ==  \"Python\":\n",
    "  print(\"Serás un cientifico de datos\")\n",
    "elif lang == \"PHP\":\n",
    "  print(\"Serás un desarrollador backend\")\n",
    "elif lang == \"Matlab\":\n",
    "  print(\"Serás la burla del resto de programadores\")\n",
    "elif lang == \"Java\":\n",
    "  print(\"Serás un desarrollador de apps moviles\")\n",
    "else:\n",
    "  print(\"Lo importante no es el lenguaje, es la habilidad de resolver problemas.\")"
   ]
  },
  {
   "cell_type": "code",
   "execution_count": 2,
   "metadata": {},
   "outputs": [
    {
     "name": "stdout",
     "output_type": "stream",
     "text": [
      "El número 10 no corresponde a una vocal minúscula en código ASCII\n"
     ]
    }
   ],
   "source": [
    "x : int\n",
    "x = int(input(\"Ingrese un número entero: \"))\n",
    "if x==97 or x==101 or x==105 or x==111 or x==117:\n",
    "    print(\"El número \" + str(x) + \" corresponde a una vocal minúscula en código ASCII\")\n",
    "else:\n",
    "    print(\"El número \" + str(x) + \" no corresponde a una vocal minúscula en código ASCII\")"
   ]
  },
  {
   "cell_type": "code",
   "execution_count": 2,
   "metadata": {},
   "outputs": [
    {
     "name": "stdout",
     "output_type": "stream",
     "text": [
      "El cuadrado de 10.0 es 100.0\n"
     ]
    }
   ],
   "source": [
    "def elevarCuadrado(x:float):\n",
    "  return x**2\n",
    "\n",
    "if __name__ == \"__main__\":\n",
    "  x = float(input(\"Ingrese un numero real:\"))\n",
    "  xSquared = elevarCuadrado(x)\n",
    "  print(\"El cuadrado de \" + str(x) + \" es \" +str(xSquared))"
   ]
  },
  {
   "cell_type": "code",
   "execution_count": 3,
   "metadata": {},
   "outputs": [
    {
     "name": "stdout",
     "output_type": "stream",
     "text": [
      "El area del rectagulo es 50.0\n"
     ]
    }
   ],
   "source": [
    "def calcularAreaRectangulo(base:float, altura:float) -> float:\n",
    "  areaRectangulo = base*altura\n",
    "  return areaRectangulo\n",
    "\n",
    "if __name__ == \"__main__\":\n",
    "  base = float(input(\"Ingrese base del rectangulo:\"))\n",
    "  altura = float(input(\"Ingrese altura del rectangulo:\"))\n",
    "  area = calcularAreaRectangulo(base, altura)\n",
    "  print(\"El area del rectagulo es \" + str(area))"
   ]
  },
  {
   "cell_type": "code",
   "execution_count": 12,
   "metadata": {},
   "outputs": [
    {
     "name": "stdout",
     "output_type": "stream",
     "text": [
      "300\n",
      "300\n"
     ]
    }
   ],
   "source": [
    "x = 300\n",
    "\n",
    "def myfunc():\n",
    "  print(x)\n",
    "\n",
    "myfunc()\n",
    "\n",
    "print(x)\n"
   ]
  },
  {
   "cell_type": "code",
   "execution_count": 13,
   "metadata": {},
   "outputs": [
    {
     "name": "stdout",
     "output_type": "stream",
     "text": [
      "200\n",
      "300\n"
     ]
    }
   ],
   "source": [
    "x = 300\n",
    "\n",
    "def myfunc():\n",
    "  x = 200\n",
    "  print(x)\n",
    "\n",
    "myfunc()\n",
    "\n",
    "print(x)"
   ]
  },
  {
   "cell_type": "code",
   "execution_count": 14,
   "metadata": {},
   "outputs": [
    {
     "name": "stdout",
     "output_type": "stream",
     "text": [
      "300\n"
     ]
    }
   ],
   "source": [
    "def myfunc():\n",
    "  global x\n",
    "  x = 300\n",
    "\n",
    "myfunc()\n",
    "\n",
    "print(x)"
   ]
  },
  {
   "cell_type": "code",
   "execution_count": 15,
   "metadata": {},
   "outputs": [
    {
     "name": "stdout",
     "output_type": "stream",
     "text": [
      "200\n"
     ]
    }
   ],
   "source": [
    "x = 300\n",
    "\n",
    "def myfunc():\n",
    "  global x\n",
    "  x = 200\n",
    "\n",
    "myfunc()\n",
    "\n",
    "print(x)"
   ]
  },
  {
   "cell_type": "code",
   "execution_count": 16,
   "metadata": {},
   "outputs": [
    {
     "name": "stdout",
     "output_type": "stream",
     "text": [
      "Variable local Hola local\n"
     ]
    }
   ],
   "source": [
    "def saludar():\n",
    "  mensaje = \"Hola local\"\n",
    "  print(\"Variable local\", mensaje)\n",
    "\n",
    "if __name__ == \"__main__\":\n",
    "  saludar()"
   ]
  },
  {
   "cell_type": "code",
   "execution_count": 17,
   "metadata": {},
   "outputs": [
    {
     "name": "stdout",
     "output_type": "stream",
     "text": [
      "Variable global Hola global\n"
     ]
    }
   ],
   "source": [
    "def saludar():\n",
    "  global mensaje\n",
    "  mensaje = \"Hola global\"\n",
    "\n",
    "if __name__ == \"__main__\":\n",
    "  saludar()\n",
    "  print(\"Variable global\", mensaje)"
   ]
  },
  {
   "cell_type": "code",
   "execution_count": 18,
   "metadata": {},
   "outputs": [
    {
     "name": "stdout",
     "output_type": "stream",
     "text": [
      "Variable local Hola global\n",
      "Variable global Hola global\n"
     ]
    }
   ],
   "source": [
    "mensaje = \"Hola global\"\n",
    "def saludar():\n",
    "  print(\"Variable local\", mensaje)\n",
    "\n",
    "if __name__ == \"__main__\":\n",
    "  saludar()\n",
    "  print(\"Variable global\", mensaje)"
   ]
  },
  {
   "cell_type": "code",
   "execution_count": 19,
   "metadata": {},
   "outputs": [
    {
     "name": "stdout",
     "output_type": "stream",
     "text": [
      "Variable local Hola local\n"
     ]
    }
   ],
   "source": [
    "def saludar():\n",
    "  mensaje = \"Hola local\"\n",
    "  print(\"Variable local\", mensaje)\n",
    "\n",
    "if __name__ == \"__main__\":\n",
    "  saludar()\n",
    "  # print(\"Variable global\", mensaje) Quitar comentario y probar"
   ]
  },
  {
   "cell_type": "code",
   "execution_count": null,
   "metadata": {},
   "outputs": [],
   "source": []
  },
  {
   "cell_type": "code",
   "execution_count": null,
   "metadata": {},
   "outputs": [],
   "source": []
  },
  {
   "cell_type": "code",
   "execution_count": null,
   "metadata": {},
   "outputs": [],
   "source": []
  }
 ],
 "metadata": {
  "kernelspec": {
   "display_name": "Python 3.10.10 64-bit",
   "language": "python",
   "name": "python3"
  },
  "language_info": {
   "codemirror_mode": {
    "name": "ipython",
    "version": 3
   },
   "file_extension": ".py",
   "mimetype": "text/x-python",
   "name": "python",
   "nbconvert_exporter": "python",
   "pygments_lexer": "ipython3",
   "version": "3.10.10"
  },
  "orig_nbformat": 4,
  "vscode": {
   "interpreter": {
    "hash": "26de051ba29f2982a8de78e945f0abaf191376122a1563185a90213a26c5da77"
   }
  }
 },
 "nbformat": 4,
 "nbformat_minor": 2
}
